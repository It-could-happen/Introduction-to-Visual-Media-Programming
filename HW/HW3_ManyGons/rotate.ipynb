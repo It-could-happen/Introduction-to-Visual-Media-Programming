{
 "cells": [
  {
   "cell_type": "code",
   "execution_count": 3,
   "metadata": {},
   "outputs": [],
   "source": [
    "import numpy as np"
   ]
  },
  {
   "cell_type": "code",
   "execution_count": 4,
   "metadata": {},
   "outputs": [],
   "source": [
    "poly = np.array([[350,200], [250, 350], [450, 350]])"
   ]
  },
  {
   "cell_type": "code",
   "execution_count": 5,
   "metadata": {},
   "outputs": [
    {
     "data": {
      "text/plain": [
       "(3, 2)"
      ]
     },
     "execution_count": 5,
     "metadata": {},
     "output_type": "execute_result"
    }
   ],
   "source": [
    "poly.shape # 3row, 2colums"
   ]
  },
  {
   "cell_type": "code",
   "execution_count": 6,
   "metadata": {},
   "outputs": [
    {
     "data": {
      "text/plain": [
       "(array([[ 0.8660254, -0.5      ],\n",
       "        [ 0.5      ,  0.8660254]]),\n",
       " (2, 2))"
      ]
     },
     "execution_count": 6,
     "metadata": {},
     "output_type": "execute_result"
    }
   ],
   "source": [
    "degree = 30\n",
    "radian = np.deg2rad(degree)\n",
    "c = np.cos(radian)\n",
    "s = np.sin(radian)\n",
    "R = np.array( [[c, -s], [s,c]])\n",
    "R, R.shape"
   ]
  },
  {
   "cell_type": "markdown",
   "metadata": {},
   "source": [
    "x, y의 2차원 좌표값을 degree만큼 회전시키는 변환 행렬 R을 정의했다. "
   ]
  },
  {
   "cell_type": "code",
   "execution_count": 7,
   "metadata": {},
   "outputs": [
    {
     "data": {
      "text/plain": [
       "(array([[350, 250, 450],\n",
       "        [200, 350, 350]]),\n",
       " (2, 3))"
      ]
     },
     "execution_count": 7,
     "metadata": {},
     "output_type": "execute_result"
    }
   ],
   "source": [
    "pT = poly.T\n",
    "pT, pT.shape\n"
   ]
  },
  {
   "cell_type": "markdown",
   "metadata": {},
   "source": [
    "여기서 polygon을 그리기 위한 행렬은 (n, 2)의 형태로 주어지는데 \n",
    "우리의 R은 2, 2행렬이고 R @ (n, 2)를 하면 안된다. \n",
    "R @ (2, n)의 형태로 곱해줘야 하기 때문에 poly를 뒤집어준다. "
   ]
  },
  {
   "cell_type": "code",
   "execution_count": 8,
   "metadata": {},
   "outputs": [
    {
     "data": {
      "text/plain": [
       "(array([[203.10889132,  41.50635095, 214.7114317 ],\n",
       "        [348.20508076, 428.10889132, 528.10889132]]),\n",
       " (2, 3))"
      ]
     },
     "execution_count": 8,
     "metadata": {},
     "output_type": "execute_result"
    }
   ],
   "source": [
    "ppT = R @ pT\n",
    "ppT, ppT.shape"
   ]
  },
  {
   "cell_type": "markdown",
   "metadata": {},
   "source": [
    "그렇게 둘을 곱해서 나온 ppT는 poly를 행과 열을 뒤집어서 R을 곱한 형태다. "
   ]
  },
  {
   "cell_type": "code",
   "execution_count": 9,
   "metadata": {},
   "outputs": [
    {
     "data": {
      "text/plain": [
       "array([[203.10889132, 348.20508076],\n",
       "       [ 41.50635095, 428.10889132],\n",
       "       [214.7114317 , 528.10889132]])"
      ]
     },
     "execution_count": 9,
     "metadata": {},
     "output_type": "execute_result"
    }
   ],
   "source": [
    "pp = ppT.T\n",
    "pp"
   ]
  },
  {
   "cell_type": "markdown",
   "metadata": {},
   "source": [
    "이걸 다시 뒤집어서 pp로 만들면 폴리곤에 출력 가능하게 된다. "
   ]
  },
  {
   "cell_type": "code",
   "execution_count": 10,
   "metadata": {},
   "outputs": [
    {
     "data": {
      "text/plain": [
       "(array([[ -50,    0],\n",
       "        [-150,  150],\n",
       "        [  50,  150]]),\n",
       " array([[350, 200],\n",
       "        [250, 350],\n",
       "        [450, 350]]))"
      ]
     },
     "execution_count": 10,
     "metadata": {},
     "output_type": "execute_result"
    }
   ],
   "source": [
    "cor = np.array( [400, 200])\n",
    "copypoly = poly.copy()\n",
    "for p in range(copypoly.shape[0]):\n",
    "    copypoly[p] = copypoly[p] - cor\n",
    "\n",
    "copypoly, poly\n"
   ]
  },
  {
   "cell_type": "code",
   "execution_count": 11,
   "metadata": {},
   "outputs": [
    {
     "data": {
      "text/plain": [
       "array([[ -43.30127019, -204.90381057,  -31.69872981],\n",
       "       [ -25.        ,   54.90381057,  154.90381057]])"
      ]
     },
     "execution_count": 11,
     "metadata": {},
     "output_type": "execute_result"
    }
   ],
   "source": [
    "proated = (R @ copypoly.T)\n",
    "proated"
   ]
  },
  {
   "cell_type": "code",
   "execution_count": 12,
   "metadata": {},
   "outputs": [],
   "source": [
    "gons = []\n",
    "radius = 1\n",
    "for i in range(5):\n",
    "    deg = i * 360 / 5.\n",
    "    radian = deg * np.pi/180\n",
    "    c = np.cos(radian)\n",
    "    s = np.sin(radian)\n",
    "    x = radius * c\n",
    "    y = radius * s\n",
    "    gons.append([x, y])\n",
    "\n",
    "gons5 = np.array(gons)\n",
    "    "
   ]
  },
  {
   "cell_type": "code",
   "execution_count": 13,
   "metadata": {},
   "outputs": [
    {
     "data": {
      "text/plain": [
       "array([[ 1.        ,  0.        ],\n",
       "       [ 0.30901699,  0.95105652],\n",
       "       [-0.80901699,  0.58778525],\n",
       "       [-0.80901699, -0.58778525],\n",
       "       [ 0.30901699, -0.95105652]])"
      ]
     },
     "execution_count": 13,
     "metadata": {},
     "output_type": "execute_result"
    }
   ],
   "source": [
    "gons5\n",
    "for i in range()"
   ]
  }
 ],
 "metadata": {
  "kernelspec": {
   "display_name": "Python 3.11.1 64-bit",
   "language": "python",
   "name": "python3"
  },
  "language_info": {
   "codemirror_mode": {
    "name": "ipython",
    "version": 3
   },
   "file_extension": ".py",
   "mimetype": "text/x-python",
   "name": "python",
   "nbconvert_exporter": "python",
   "pygments_lexer": "ipython3",
   "version": "3.11.1"
  },
  "orig_nbformat": 4,
  "vscode": {
   "interpreter": {
    "hash": "544c7e72ceabb8b5baf00146d00b7c3a5bfd60d2cf41bb549c5c035fb33480da"
   }
  }
 },
 "nbformat": 4,
 "nbformat_minor": 2
}
